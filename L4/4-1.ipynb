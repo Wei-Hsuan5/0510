{
  "nbformat": 4,
  "nbformat_minor": 0,
  "metadata": {
    "colab": {
      "provenance": [],
      "authorship_tag": "ABX9TyO14s7GqO69EI+27VrtxFIi",
      "include_colab_link": true
    },
    "kernelspec": {
      "name": "python3",
      "display_name": "Python 3"
    },
    "language_info": {
      "name": "python"
    }
  },
  "cells": [
    {
      "cell_type": "markdown",
      "metadata": {
        "id": "view-in-github",
        "colab_type": "text"
      },
      "source": [
        "<a href=\"https://colab.research.google.com/github/Wei-Hsuan5/0510/blob/main/L4/4-1.ipynb\" target=\"_parent\"><img src=\"https://colab.research.google.com/assets/colab-badge.svg\" alt=\"Open In Colab\"/></a>"
      ]
    },
    {
      "cell_type": "code",
      "source": [
        "#list\n",
        "for i in [45, 92, 78, 50, 69]:\n",
        "  print(i)"
      ],
      "metadata": {
        "id": "DCJqJgNB4eTG",
        "outputId": "84e26f8e-dc19-474c-eae3-c80bf4f58453",
        "colab": {
          "base_uri": "https://localhost:8080/"
        }
      },
      "execution_count": null,
      "outputs": [
        {
          "output_type": "stream",
          "name": "stdout",
          "text": [
            "45\n",
            "92\n",
            "78\n",
            "50\n",
            "69\n"
          ]
        }
      ]
    },
    {
      "cell_type": "code",
      "source": [
        "#tuple\n",
        "for i in (45, 92, 78, 50, 69):\n",
        "  print(i)"
      ],
      "metadata": {
        "id": "tIGFw9g54ipV",
        "outputId": "b6f4f420-2245-4766-8b68-239e812e5a8e",
        "colab": {
          "base_uri": "https://localhost:8080/"
        }
      },
      "execution_count": null,
      "outputs": [
        {
          "output_type": "stream",
          "name": "stdout",
          "text": [
            "45\n",
            "92\n",
            "78\n",
            "50\n",
            "69\n"
          ]
        }
      ]
    },
    {
      "cell_type": "markdown",
      "source": [
        "# Dictionary 詞典物件介紹\n",
        "\n",
        "---\n",
        "\n",
        "用來儲存一組「鍵（Key）-值（Value）」對，類似於一個關聯陣列或映射表。\n",
        "\n",
        "**基本概念**\n",
        "\n",
        "- 詞典由多個鍵值對組成，每個鍵對應一個值，透過鍵可以快速存取對應的值。\n",
        "- 鍵必須是不可變的資料型態，如字串、數字或**不可變元組（tuple）**，且鍵在詞典中是唯一的。\n",
        "- 值可以是任意的 Python 物件，包括數字、字串、串列、甚至是另一個詞典。\n",
        "- 詞典本身是可變的，允許新增、修改或刪除鍵值對。\n",
        "- Python 3.7 以後的版本中，詞典保持插入順序（有順序性），但在更早版本中詞典是無序的"
      ],
      "metadata": {
        "id": "ePW4RHXl40tT"
      }
    },
    {
      "cell_type": "code",
      "execution_count": null,
      "metadata": {
        "colab": {
          "base_uri": "https://localhost:8080/"
        },
        "id": "uDjCdpkL0PMj",
        "outputId": "7413f1c5-4264-447b-baed-07f7808576be"
      },
      "outputs": [
        {
          "output_type": "execute_result",
          "data": {
            "text/plain": [
              "[{'name': 'robert', 'chinese': 78, 'english': 98, 'math': 73},\n",
              " {'name': 'alice', 'chinese': 72, 'english': 88, 'math': 63},\n",
              " {'name': 'jenny', 'chinese': 65, 'english': 78, 'math': 93}]"
            ]
          },
          "metadata": {},
          "execution_count": 4
        }
      ],
      "source": [
        "stu1 = {\"name\":\"robert\",\n",
        "        \"chinese\":78,\n",
        "        \"english\":98,\n",
        "        \"math\":73}\n",
        "\n",
        "stu2 = {\"name\":\"alice\",\n",
        "        \"chinese\":72,\n",
        "        \"english\":88,\n",
        "        \"math\":63}\n",
        "\n",
        "stu3 = {\"name\":\"jenny\",\n",
        "        \"chinese\":65,\n",
        "        \"english\":78,\n",
        "        \"math\":93}\n",
        "students = [stu1, stu2, stu3]\n",
        "students"
      ]
    },
    {
      "cell_type": "code",
      "source": [
        "for student in students:\n",
        "  print(\"姓名:\",student[\"name\"])\n",
        "  print(\"國文:\",student[\"chinese\"])\n",
        "  print(\"英文:\",student[\"english\"])\n",
        "  print(\"數學:\",student[\"math\"])\n",
        "  print(\"===============\")"
      ],
      "metadata": {
        "colab": {
          "base_uri": "https://localhost:8080/"
        },
        "id": "-tRLHpG635Ox",
        "outputId": "faedb751-d7fe-410c-fdd3-4a467e8bcb56"
      },
      "execution_count": null,
      "outputs": [
        {
          "output_type": "stream",
          "name": "stdout",
          "text": [
            "姓名: robert\n",
            "國文: 78\n",
            "英文: 98\n",
            "數學: 73\n",
            "===============\n",
            "姓名: alice\n",
            "國文: 72\n",
            "英文: 88\n",
            "數學: 63\n",
            "===============\n",
            "姓名: jenny\n",
            "國文: 65\n",
            "英文: 78\n",
            "數學: 93\n",
            "===============\n"
          ]
        }
      ]
    }
  ]
}