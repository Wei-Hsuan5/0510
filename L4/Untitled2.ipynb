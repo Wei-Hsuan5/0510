{
  "nbformat": 4,
  "nbformat_minor": 0,
  "metadata": {
    "colab": {
      "provenance": [],
      "include_colab_link": true
    },
    "kernelspec": {
      "name": "python3",
      "display_name": "Python 3"
    },
    "language_info": {
      "name": "python"
    }
  },
  "cells": [
    {
      "cell_type": "markdown",
      "metadata": {
        "id": "view-in-github",
        "colab_type": "text"
      },
      "source": [
        "<a href=\"https://colab.research.google.com/github/Wei-Hsuan5/0510/blob/main/L4/Untitled2.ipynb\" target=\"_parent\"><img src=\"https://colab.research.google.com/assets/colab-badge.svg\" alt=\"Open In Colab\"/></a>"
      ]
    },
    {
      "cell_type": "code",
      "execution_count": null,
      "metadata": {
        "colab": {
          "base_uri": "https://localhost:8080/"
        },
        "id": "Yesiu0ZdB1hB",
        "outputId": "924dec31-19a8-4d89-9776-1930f8658223"
      },
      "outputs": [
        {
          "output_type": "stream",
          "name": "stdout",
          "text": [
            "1\n",
            "2\n",
            "3\n",
            "4\n",
            "5\n",
            "輸入數字(輸入0結束):5\n",
            "輸入數字(輸入0結束):12\n",
            "輸入數字(輸入0結束):0\n",
            "總和: 17\n"
          ]
        }
      ],
      "source": [
        "count = 1\n",
        "while count <= 5:\n",
        "  print(count)\n",
        "  count += 1\n",
        "\n",
        "total= 0\n",
        "while True:\n",
        "  num=int(input(\"輸入數字(輸入0結束):\"))\n",
        "  if num == 0:\n",
        "    break\n",
        "  total += num\n",
        "print(\"總和:\", total)"
      ]
    },
    {
      "cell_type": "markdown",
      "source": [
        "###**取得亂數1-100**###"
      ],
      "metadata": {
        "id": "4Cgn7QtJJrqA"
      }
    },
    {
      "cell_type": "code",
      "source": [
        "import random\n",
        "min=1\n",
        "max=99\n",
        "count=0\n",
        "random_number=random.randint(min,max)\n",
        "\n",
        "print(\"===猜數字開始===\\n\")\n",
        "while True:\n",
        "  input_number= int(input(f\"輸入數字({min}~{max}):\"))\n",
        "  count +=1\n",
        "  if(input_number== random_number):\n",
        "    print(f\"恭喜猜中！答案是:{input_number}\")\n",
        "    print(f\"已猜:{count}次\")\n",
        "    break\n",
        "  elif(input_number>random_number):\n",
        "    print(f\"再小一點\")\n",
        "    max = input_number-1\n",
        "  elif(input_number<random_number):\n",
        "    print(f\"再大一點\")\n",
        "    min = input_number+1\n",
        "\n",
        "  print(f\"已猜:{count}次\\n\")\n",
        "\n",
        "print(\"結束\")"
      ],
      "metadata": {
        "colab": {
          "base_uri": "https://localhost:8080/"
        },
        "id": "4ETEti_ZJrTw",
        "outputId": "17b1c504-9c45-403e-d504-3638b9a138a0"
      },
      "execution_count": null,
      "outputs": [
        {
          "output_type": "stream",
          "name": "stdout",
          "text": [
            "===猜數字開始===\n",
            "\n"
          ]
        }
      ]
    }
  ]
}