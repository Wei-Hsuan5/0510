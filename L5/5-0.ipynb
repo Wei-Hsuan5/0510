{
 "cells": [
  {
   "cell_type": "markdown",
   "id": "33baa607",
   "metadata": {},
   "source": [
    "## Test\n",
    "- function"
   ]
  },
  {
   "cell_type": "code",
   "execution_count": 1,
   "id": "ecde83a3",
   "metadata": {},
   "outputs": [
    {
     "name": "stdout",
     "output_type": "stream",
     "text": [
      "Shampooo\n"
     ]
    }
   ],
   "source": [
    "print (\"Shampooo\")"
   ]
  }
 ],
 "metadata": {
  "kernelspec": {
   "display_name": "0510",
   "language": "python",
   "name": "python3"
  },
  "language_info": {
   "codemirror_mode": {
    "name": "ipython",
    "version": 3
   },
   "file_extension": ".py",
   "mimetype": "text/x-python",
   "name": "python",
   "nbconvert_exporter": "python",
   "pygments_lexer": "ipython3",
   "version": "3.10.16"
  }
 },
 "nbformat": 4,
 "nbformat_minor": 5
}
